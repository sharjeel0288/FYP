{
 "cells": [
  {
   "cell_type": "code",
   "execution_count": 7,
   "metadata": {},
   "outputs": [
    {
     "name": "stderr",
     "output_type": "stream",
     "text": [
      "c:\\Users\\HP\\AppData\\Local\\Programs\\Python\\Python310\\lib\\site-packages\\torchvision\\models\\_utils.py:208: UserWarning: The parameter 'pretrained' is deprecated since 0.13 and may be removed in the future, please use 'weights' instead.\n",
      "  warnings.warn(\n",
      "c:\\Users\\HP\\AppData\\Local\\Programs\\Python\\Python310\\lib\\site-packages\\torchvision\\models\\_utils.py:223: UserWarning: Arguments other than a weight enum or `None` for 'weights' are deprecated since 0.13 and may be removed in the future. The current behavior is equivalent to passing `weights=FasterRCNN_ResNet50_FPN_Weights.COCO_V1`. You can also use `weights=FasterRCNN_ResNet50_FPN_Weights.DEFAULT` to get the most up-to-date weights.\n",
      "  warnings.warn(msg)\n",
      "Downloading: \"https://download.pytorch.org/models/fasterrcnn_resnet50_fpn_coco-258fb6c6.pth\" to C:\\Users\\HP/.cache\\torch\\hub\\checkpoints\\fasterrcnn_resnet50_fpn_coco-258fb6c6.pth\n"
     ]
    },
    {
     "data": {
      "application/vnd.jupyter.widget-view+json": {
       "model_id": "7c46d84234e84c93afd7ef5ca80aef20",
       "version_major": 2,
       "version_minor": 0
      },
      "text/plain": [
       "  0%|          | 0.00/160M [00:00<?, ?B/s]"
      ]
     },
     "metadata": {},
     "output_type": "display_data"
    },
    {
     "ename": "NameError",
     "evalue": "name 'x' is not defined",
     "output_type": "error",
     "traceback": [
      "\u001b[1;31m---------------------------------------------------------------------------\u001b[0m",
      "\u001b[1;31mNameError\u001b[0m                                 Traceback (most recent call last)",
      "\u001b[1;32me:\\FYP\\Dataset\\test\\test.ipynb Cell 1\u001b[0m in \u001b[0;36m<cell line: 33>\u001b[1;34m()\u001b[0m\n\u001b[0;32m     <a href='vscode-notebook-cell:/e%3A/FYP/Dataset/test/test.ipynb#W0sZmlsZQ%3D%3D?line=28'>29</a>\u001b[0m labels \u001b[39m=\u001b[39m predictions[\u001b[39m0\u001b[39m][\u001b[39m'\u001b[39m\u001b[39mlabels\u001b[39m\u001b[39m'\u001b[39m]\u001b[39m.\u001b[39mcpu()\u001b[39m.\u001b[39mnumpy()\n\u001b[0;32m     <a href='vscode-notebook-cell:/e%3A/FYP/Dataset/test/test.ipynb#W0sZmlsZQ%3D%3D?line=30'>31</a>\u001b[0m \u001b[39m# Define keypoints for jeans measurements (e.g., waist, high hip, etc.)\u001b[39;00m\n\u001b[0;32m     <a href='vscode-notebook-cell:/e%3A/FYP/Dataset/test/test.ipynb#W0sZmlsZQ%3D%3D?line=31'>32</a>\u001b[0m keypoints \u001b[39m=\u001b[39m {\n\u001b[1;32m---> <a href='vscode-notebook-cell:/e%3A/FYP/Dataset/test/test.ipynb#W0sZmlsZQ%3D%3D?line=32'>33</a>\u001b[0m     \u001b[39m'\u001b[39m\u001b[39mwaist\u001b[39m\u001b[39m'\u001b[39m: (x, y),  \u001b[39m# Define coordinates for the waist keypoint\u001b[39;00m\n\u001b[0;32m     <a href='vscode-notebook-cell:/e%3A/FYP/Dataset/test/test.ipynb#W0sZmlsZQ%3D%3D?line=33'>34</a>\u001b[0m     \u001b[39m# Define coordinates for other keypoints here\u001b[39;00m\n\u001b[0;32m     <a href='vscode-notebook-cell:/e%3A/FYP/Dataset/test/test.ipynb#W0sZmlsZQ%3D%3D?line=34'>35</a>\u001b[0m }\n\u001b[0;32m     <a href='vscode-notebook-cell:/e%3A/FYP/Dataset/test/test.ipynb#W0sZmlsZQ%3D%3D?line=36'>37</a>\u001b[0m \u001b[39m# Calculate measurements based on keypoints (e.g., Inseam Length, Knee to Ankle, etc.)\u001b[39;00m\n\u001b[0;32m     <a href='vscode-notebook-cell:/e%3A/FYP/Dataset/test/test.ipynb#W0sZmlsZQ%3D%3D?line=37'>38</a>\u001b[0m measurements \u001b[39m=\u001b[39m defaultdict(\u001b[39mfloat\u001b[39m)\n",
      "\u001b[1;31mNameError\u001b[0m: name 'x' is not defined"
     ]
    }
   ],
   "source": [
    "import cv2\n",
    "import numpy as np\n",
    "import torch\n",
    "import torchvision.transforms as T\n",
    "from torchvision.models.detection import fasterrcnn_resnet50_fpn\n",
    "from collections import defaultdict\n",
    "\n",
    "# Load a pre-trained Faster R-CNN model\n",
    "model = fasterrcnn_resnet50_fpn(pretrained=True)\n",
    "model.eval()\n",
    "\n",
    "# Load the image\n",
    "image_path = '1809.jpg'  # Replace with the path to your image\n",
    "image = cv2.imread(image_path)\n",
    "\n",
    "# Define a function to perform object detection\n",
    "def detect_objects(image):\n",
    "    transform = T.Compose([T.ToTensor()])\n",
    "    img = transform(image).unsqueeze(0)\n",
    "    with torch.no_grad():\n",
    "        prediction = model(img)\n",
    "    return prediction\n",
    "\n",
    "# Perform object detection to identify jeans\n",
    "predictions = detect_objects(image)\n",
    "\n",
    "# Extract bounding boxes and labels from the predictions\n",
    "boxes = predictions[0]['boxes'].cpu().numpy()\n",
    "labels = predictions[0]['labels'].cpu().numpy()\n",
    "\n",
    "# Define keypoints for jeans measurements (e.g., waist, high hip, etc.)\n",
    "keypoints = {\n",
    "    'waist': (x, y),  # Define coordinates for the waist keypoint\n",
    "    # Define coordinates for other keypoints here\n",
    "}\n",
    "\n",
    "# Calculate measurements based on keypoints (e.g., Inseam Length, Knee to Ankle, etc.)\n",
    "measurements = defaultdict(float)\n",
    "\n",
    "# Calculate Inseam Length, Knee to Ankle, Front Rise, Fit (seat and thigh), Waist, High Hip, Low Hip, Thigh, Knee, Leg Opening, Front Rise, Back Rise\n",
    "# You will need to calculate each measurement based on the coordinates of keypoints\n",
    "\n",
    "# Display the image with annotations and measurements\n",
    "# You can use OpenCV to draw lines, circles, and text on the image\n",
    "\n",
    "# Finally, display the measurements\n",
    "for measurement, value in measurements.items():\n",
    "    print(f\"{measurement}: {value} inches\")\n",
    "\n",
    "# Display the annotated image\n",
    "cv2.imshow('Annotated Image', image)\n",
    "cv2.waitKey(0)\n",
    "cv2.destroyAllWindows()\n"
   ]
  }
 ],
 "metadata": {
  "kernelspec": {
   "display_name": "Python 3",
   "language": "python",
   "name": "python3"
  },
  "language_info": {
   "codemirror_mode": {
    "name": "ipython",
    "version": 3
   },
   "file_extension": ".py",
   "mimetype": "text/x-python",
   "name": "python",
   "nbconvert_exporter": "python",
   "pygments_lexer": "ipython3",
   "version": "3.10.7"
  },
  "orig_nbformat": 4
 },
 "nbformat": 4,
 "nbformat_minor": 2
}
